{
 "cells": [
  {
   "cell_type": "code",
   "execution_count": null,
   "metadata": {
    "colab": {
     "base_uri": "https://localhost:8080/"
    },
    "id": "nmQC7zfFhgP_",
    "outputId": "f3fcc191-ed34-4ccd-fa06-ed7f99aec60a"
   },
   "outputs": [
    {
     "name": "stderr",
     "output_type": "stream",
     "text": [
      "c:\\Users\\abcds\\AppData\\Local\\Programs\\Python\\Python311\\Lib\\site-packages\\tqdm\\auto.py:21: TqdmWarning: IProgress not found. Please update jupyter and ipywidgets. See https://ipywidgets.readthedocs.io/en/stable/user_install.html\n",
      "  from .autonotebook import tqdm as notebook_tqdm\n",
      "tokenizer_config.json: 100%|██████████| 39.0/39.0 [00:00<?, ?B/s]\n",
      "c:\\Users\\abcds\\AppData\\Local\\Programs\\Python\\Python311\\Lib\\site-packages\\huggingface_hub\\file_download.py:149: UserWarning: `huggingface_hub` cache-system uses symlinks by default to efficiently store duplicated files but your machine does not support them in C:\\Users\\abcds\\.cache\\huggingface\\hub\\models--nlptown--bert-base-multilingual-uncased-sentiment. Caching files will still work but in a degraded version that might require more space on your disk. This warning can be disabled by setting the `HF_HUB_DISABLE_SYMLINKS_WARNING` environment variable. For more details, see https://huggingface.co/docs/huggingface_hub/how-to-cache#limitations.\n",
      "To support symlinks on Windows, you either need to activate Developer Mode or to run Python as an administrator. In order to see activate developer mode, see this article: https://docs.microsoft.com/en-us/windows/apps/get-started/enable-your-device-for-development\n",
      "  warnings.warn(message)\n",
      "vocab.txt: 100%|██████████| 872k/872k [00:00<00:00, 3.38MB/s]\n",
      "special_tokens_map.json: 100%|██████████| 112/112 [00:00<?, ?B/s] \n",
      "config.json: 100%|██████████| 953/953 [00:00<?, ?B/s] \n",
      "pytorch_model.bin: 100%|██████████| 669M/669M [00:33<00:00, 20.3MB/s] \n"
     ]
    }
   ],
   "source": [
    "from transformers import BertTokenizer, BertForSequenceClassification\n",
    "from torch import softmax\n",
    "import torch\n",
    "\n",
    "# Load the pretrained model and tokenizer from Hugging Face\n",
    "model_name = 'nlptown/bert-base-multilingual-uncased-sentiment'\n",
    "tokenizer = BertTokenizer.from_pretrained(model_name)\n",
    "model = BertForSequenceClassification.from_pretrained(model_name)\n",
    "\n",
    "# Function to predict sentiment\n",
    "def predict_sentiment(text):\n",
    "    # Encode the text to BERT's required format\n",
    "    inputs = tokenizer(text, return_tensors=\"pt\", truncation=True, padding=True, max_length=512)\n",
    "\n",
    "    # Perform the forward pass through the model\n",
    "    with torch.no_grad():\n",
    "        outputs = model(**inputs)\n",
    "\n",
    "    # Apply softmax to get probabilities for each sentiment class (0-4)\n",
    "    probs = softmax(outputs.logits, dim=-1)\n",
    "\n",
    "    # Get the sentiment with the highest probability\n",
    "    sentiment = torch.argmax(probs).item()\n",
    "\n",
    "    # Map the numerical sentiment to simplified human-readable sentiment labels\n",
    "    if sentiment == 0 or sentiment == 1:\n",
    "        sentiment_label = \"negative\"\n",
    "    elif sentiment == 2:\n",
    "        sentiment_label = \"neutral\"\n",
    "    else:\n",
    "        sentiment_label = \"positive\"\n",
    "\n",
    "    return sentiment_label, probs[0][sentiment].item()\n",
    "\n",
    "# User input loop\n",
    "while True:\n",
    "    user_input = input(\"Enter a statement (or type 'exit' to quit): \")\n",
    "\n",
    "    if user_input.lower() == 'exit':\n",
    "        print(\"Exiting the program.\")\n",
    "        break\n",
    "\n",
    "    sentiment, confidence = predict_sentiment(user_input)\n",
    "    print(f\"Predicted Sentiment: {sentiment} (Confidence: {confidence*100:.2f}%)\")\n"
   ]
  }
 ],
 "metadata": {
  "accelerator": "GPU",
  "colab": {
   "gpuType": "T4",
   "provenance": []
  },
  "kernelspec": {
   "display_name": "Python 3",
   "name": "python3"
  },
  "language_info": {
   "codemirror_mode": {
    "name": "ipython",
    "version": 3
   },
   "file_extension": ".py",
   "mimetype": "text/x-python",
   "name": "python",
   "nbconvert_exporter": "python",
   "pygments_lexer": "ipython3",
   "version": "3.11.1"
  }
 },
 "nbformat": 4,
 "nbformat_minor": 0
}
